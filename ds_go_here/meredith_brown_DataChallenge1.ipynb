{
 "cells": [
  {
   "cell_type": "markdown",
   "metadata": {},
   "source": [
    "# Week 5: Data Challenge 1\n",
    "+ Meredith Brown\n",
    "+ mbrown@alum.mit.edu\n",
    "+ 10 February 2018"
   ]
  },
  {
   "cell_type": "markdown",
   "metadata": {},
   "source": [
    "## Problem 1: Odd/Even Linked List\n",
    "\n",
    "Step 0:\n",
    "+ Mark the end of the consecutive odds with head_odd_2 (initially just the first element)\n",
    "+ Mark the start and end of the consecutive odds with head_even_1 and head_even_2 (both initially the second element)\n",
    "\n",
    "Step 1: \n",
    "+ Set head_odd_2.next to head_even_2.next (since the element following the end of the consecutive evens is an odd)\n",
    "+ Update head_odd_2 to be this element (i.e., head_odd_2 is now head_odd_2.next)\n",
    "\n",
    "Step 2:\n",
    "+ Set head_even_2.next to be head_odd_2.next (since we havent yet updated the link of head_odd_2, so its link is still to the next even)\n",
    "+ Update head_even_2 to be this element (i.e., head_even_2 is now head_even_2.next)\n",
    "\n",
    "Step 3:\n",
    "+ Update the link of head_odd_2 to be head_even_1\n",
    "\n",
    "Repeat Steps 1-3 as long as head_even_2 is either final (if len of linked list is odd) or penultimate element (if len of linked list is even)"
   ]
  },
  {
   "cell_type": "code",
   "execution_count": 69,
   "metadata": {},
   "outputs": [
    {
     "name": "stdout",
     "output_type": "stream",
     "text": [
      "Expected result: 1, 3, 5, 2, 4\n",
      "Your result is 1, 3, 5, 2, 4\n"
     ]
    }
   ],
   "source": [
    "\n",
    "\"\"\"\n",
    "Odd Even Linked List\n",
    "\n",
    "Given a singly linked list, group all odd nodes together followed by the even nodes. \n",
    "Please note here we are talking about the node number and not the value in the nodes.\n",
    "\n",
    "You should try to do it in place. The program should run in O(1) space complexity and O(nodes) time complexity.\n",
    "\n",
    "Example:\n",
    "Given 1->2->3->4->5->NULL,\n",
    "return 1->3->5->2->4->NULL.\n",
    "\n",
    "Note:\n",
    "The relative order inside both the even and odd groups should remain as it was in the input. \n",
    "The first node is considered odd, the second node even and so on ...\n",
    "\"\"\"\n",
    "\n",
    "#constructor for a Node of singly linked list\n",
    "class ListNode:\n",
    "    def __init__(self, data):\n",
    "        self.data = data\n",
    "        self.next = None\n",
    "\n",
    "def oddEvenList_Helper(head):\n",
    "\n",
    "    # head_odd_2 keeps track of the last consecutive odd from the left\n",
    "    head_odd_2 = head\n",
    "    \n",
    "    # head_even_1 and head_even_2 keep track of the first and last consecutive evens from the left\n",
    "    head_even_1 = head.next\n",
    "    head_even_2 = head.next\n",
    "    \n",
    "    # iterate until either head_even_2 or head_even_2.next = None (no more odds)\n",
    "    while head_even_2 and head_even_2.next:\n",
    "        \n",
    "        # move head_even_2.next (which is an odd) to in between head_odd and head_even_1, and increment head_odd\n",
    "        head_odd_2.next = head_even_2.next\n",
    "        head_odd_2 = head_odd_2.next\n",
    "        \n",
    "        # increment head_even_2 after updating its link (head_odd.next still points to the next even)\n",
    "        head_even_2.next = head_odd_2.next\n",
    "        head_even_2 = head_even_2.next\n",
    "        \n",
    "        # update the link of the last consecutive odd to the start of the evens\n",
    "        head_odd_2.next = head_even_1\n",
    "        \n",
    "    return head\n",
    "\n",
    "\n",
    "#DO NOT CHANGE THIS FUNCTION\n",
    "def oddEvenList(head):\n",
    "    return oddEvenList_Helper(head)\n",
    "\n",
    "\n",
    "#test case\n",
    "def main():\n",
    "    head = ListNode(1)\n",
    "    head.next = ListNode(2)\n",
    "    head.next.next = ListNode(3)\n",
    "    head.next.next.next = ListNode(4)\n",
    "    head.next.next.next.next = ListNode(5)\n",
    "    head =  oddEvenList(head)\n",
    "\n",
    "    print (\"Expected result: 1, 3, 5, 2, 4\")\n",
    "    print (\"Your result is {}, {}, {}, {}, {}\".format(head.data, head.next.data, head.next.next.data, head.next.next.next.data, head.next.next.next.next.data))\n",
    "\n",
    "if __name__ == \"__main__\":\n",
    "    main()\n",
    "\n"
   ]
  },
  {
   "cell_type": "markdown",
   "metadata": {},
   "source": [
    "# Problem 2: Max Depth of Binary Tree\n",
    "\n",
    "Recursive solution: Define a helper-helper function that tracks the depth, and returns the depth when it hits a terminal node, and ultimately returns the max depth of all left and right paths"
   ]
  },
  {
   "cell_type": "code",
   "execution_count": 65,
   "metadata": {},
   "outputs": [
    {
     "name": "stdout",
     "output_type": "stream",
     "text": [
      "Depth of tree is 3, and the expected result is 3\n"
     ]
    }
   ],
   "source": [
    "\"\"\"\n",
    "Given a binary tree, find its maximum depth\n",
    "The maximum depth is the number of nodes along the longest path from the root node down to the farthest leaf node\n",
    "\n",
    "\"\"\"\n",
    "# Constructor to create a new node\n",
    "class Node:\n",
    "    def __init__(self, data):\n",
    "        self.data = data\n",
    "        self.left = None\n",
    "        self.right = None\n",
    "\n",
    "\n",
    "\n",
    "def depth_helper(node):\n",
    "    \n",
    "    # Recursive solution with a helper function that keeps track of the depth\n",
    "    \n",
    "    def depth_helper_helper(n, d):\n",
    "        if n.left and n.right:\n",
    "            return max(depth_helper_helper(n.left, d+1), depth_helper_helper(n.right, d+1))\n",
    "        elif n.left:\n",
    "            return depth_helper_helper(n.left, d+1)\n",
    "        elif n.right:\n",
    "            return depth_helper_helper(n.right, d+1)\n",
    "        else:\n",
    "            return d\n",
    "    return depth_helper_helper(node, 1)\n",
    "\n",
    "#PLEASE DO NOT CHANGE THIS\n",
    "def find_max_depth(tree):\n",
    "    depth = depth_helper(tree)\n",
    "    return depth\n",
    "\n",
    "\n",
    "\n",
    "#test cases\n",
    "def main():\n",
    "    root = Node(1)\n",
    "    root.left = Node(2)\n",
    "    root.right = Node(3)\n",
    "    root.left.left = Node(4)\n",
    "    root.left.right = Node(5)\n",
    "    print (\"Depth of tree is %d, and the expected result is 3\" %(find_max_depth(root),))\n",
    "\n",
    "if __name__ == \"__main__\":\n",
    "    main()\n"
   ]
  },
  {
   "cell_type": "markdown",
   "metadata": {},
   "source": [
    "## Problem 3: Is string composed of repeated substring?\n",
    "\n",
    "Starting with a string-initial substring of len 1, checks whether a string composed by concatenating that substring until it is the length of the string matches the original string; if not, increments the length of the substring until all string-initial substrings up to half the length of the original string have been checked."
   ]
  },
  {
   "cell_type": "code",
   "execution_count": 70,
   "metadata": {},
   "outputs": [
    {
     "name": "stdout",
     "output_type": "stream",
     "text": [
      "Testing your code with TEST_CASE1, the expected output is True, your output is True\n",
      "Testing your code with TEST_CASE2, the expected output is False, your output is False\n",
      "Testing your code with TEST_CASE3, the expected output is True, your output is True\n"
     ]
    }
   ],
   "source": [
    "\"\"\"\n",
    "Given a string check if it can be constructed by taking a substring of it and appending multiple copies of the substring \n",
    "together. You may assume the given string consists of lowercase English letters only and its length will not exceed 10000.\n",
    "\n",
    "Example 1:\n",
    "Input: \"abab\"\n",
    "Output: True\n",
    "Explanation: It's the substring \"ab\" twice.\n",
    "\n",
    "Example 2:\n",
    "Input: \"aba\"\n",
    "Output: False\n",
    "\n",
    "Example 3:\n",
    "Input: \"abcabcabcabc\"\n",
    "Output: True\n",
    "Explanation: It's the substring \"abc\" four times. (And the substring \"abcabc\" twice.)\n",
    "\"\"\"\n",
    "\n",
    "def is_substring_helper (data):\n",
    "    \n",
    "    # Start with the case where substr is a single letter (e.g. 'aaaaaaaa')\n",
    "    substrlen = 1\n",
    "    \n",
    "    # Check against data; if not a match, increment len of substr (up to half of string length, e.g. 'abcabc')\n",
    "    while substrlen <= int(len(data)/2):\n",
    "        if data == data[0:substrlen] * int(len(data)/substrlen):\n",
    "            return True\n",
    "        else:\n",
    "            substrlen += 1\n",
    "            \n",
    "    return False\n",
    "\n",
    "#DON NOT CHANGE THIS FUNCTION\n",
    "def is_substring (string_input):\n",
    "\treturn is_substring_helper(string_input)\n",
    "\n",
    "\n",
    "#test case\n",
    "def main():\n",
    "    TEST_CASE1 = \"abab\"\n",
    "    TEST_CASE2 = \"aba\"\n",
    "    TEST_CASE3 = \"abcabcabcabc\"\n",
    "\n",
    "    print (\"Testing your code with TEST_CASE1, the expected output is True, your output is {}\".format(is_substring(TEST_CASE1)))\n",
    "    print (\"Testing your code with TEST_CASE2, the expected output is False, your output is {}\".format(is_substring(TEST_CASE2)))\n",
    "    print (\"Testing your code with TEST_CASE3, the expected output is True, your output is {}\".format(is_substring(TEST_CASE3)))\n",
    "\n",
    "if __name__ == \"__main__\":\n",
    "    main()"
   ]
  },
  {
   "cell_type": "code",
   "execution_count": null,
   "metadata": {
    "collapsed": true
   },
   "outputs": [],
   "source": []
  }
 ],
 "metadata": {
  "kernelspec": {
   "display_name": "Python [conda env:my_projects_env]",
   "language": "python",
   "name": "conda-env-my_projects_env-py"
  },
  "language_info": {
   "codemirror_mode": {
    "name": "ipython",
    "version": 3
   },
   "file_extension": ".py",
   "mimetype": "text/x-python",
   "name": "python",
   "nbconvert_exporter": "python",
   "pygments_lexer": "ipython3",
   "version": "3.6.3"
  }
 },
 "nbformat": 4,
 "nbformat_minor": 2
}
