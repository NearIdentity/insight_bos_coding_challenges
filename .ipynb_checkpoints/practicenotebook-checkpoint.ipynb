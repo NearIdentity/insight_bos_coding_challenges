{
 "cells": [
  {
   "cell_type": "markdown",
   "metadata": {},
   "source": [
    "### problem 1\n",
    "\n",
    "Odd Even Linked List\n",
    "\n",
    "Given a singly linked list, group all odd nodes together followed by the even nodes. Please note here we are talking about the node number and not the value in the nodes.\n",
    "\n",
    "You should try to do it in place. The program should run in O(1) space complexity and O(nodes) time complexity.\n",
    "\n",
    "Example:\n",
    "Given 1->2->3->4->5->NULL,\n",
    "return 1->3->5->2->4->NULL.\n",
    "\n",
    "Note:\n",
    "The relative order inside both the even and odd groups should remain as it was in the input. \n",
    "The first node is considered odd, the second node even and so on ..."
   ]
  },
  {
   "cell_type": "code",
   "execution_count": 10,
   "metadata": {},
   "outputs": [
    {
     "ename": "TypeError",
     "evalue": "__init__() missing 1 required positional argument: 'data'",
     "output_type": "error",
     "traceback": [
      "\u001b[0;31m---------------------------------------------------------------------------\u001b[0m",
      "\u001b[0;31mTypeError\u001b[0m                                 Traceback (most recent call last)",
      "\u001b[0;32m<ipython-input-10-05fd7efaca62>\u001b[0m in \u001b[0;36m<module>\u001b[0;34m()\u001b[0m\n\u001b[1;32m     42\u001b[0m \u001b[0;34m\u001b[0m\u001b[0m\n\u001b[1;32m     43\u001b[0m \u001b[0;32mif\u001b[0m \u001b[0m__name__\u001b[0m \u001b[0;34m==\u001b[0m \u001b[0;34m\"__main__\"\u001b[0m\u001b[0;34m:\u001b[0m\u001b[0;34m\u001b[0m\u001b[0m\n\u001b[0;32m---> 44\u001b[0;31m     \u001b[0mmain\u001b[0m\u001b[0;34m(\u001b[0m\u001b[0;34m)\u001b[0m\u001b[0;34m\u001b[0m\u001b[0m\n\u001b[0m",
      "\u001b[0;32m<ipython-input-10-05fd7efaca62>\u001b[0m in \u001b[0;36mmain\u001b[0;34m()\u001b[0m\n\u001b[1;32m     37\u001b[0m     \u001b[0mhead\u001b[0m\u001b[0;34m.\u001b[0m\u001b[0mnext\u001b[0m\u001b[0;34m.\u001b[0m\u001b[0mnext\u001b[0m\u001b[0;34m.\u001b[0m\u001b[0mnext\u001b[0m \u001b[0;34m=\u001b[0m \u001b[0mListNode\u001b[0m\u001b[0;34m(\u001b[0m\u001b[0;36m4\u001b[0m\u001b[0;34m)\u001b[0m\u001b[0;34m\u001b[0m\u001b[0m\n\u001b[1;32m     38\u001b[0m     \u001b[0mhead\u001b[0m\u001b[0;34m.\u001b[0m\u001b[0mnext\u001b[0m\u001b[0;34m.\u001b[0m\u001b[0mnext\u001b[0m\u001b[0;34m.\u001b[0m\u001b[0mnext\u001b[0m\u001b[0;34m.\u001b[0m\u001b[0mnext\u001b[0m \u001b[0;34m=\u001b[0m \u001b[0mListNode\u001b[0m\u001b[0;34m(\u001b[0m\u001b[0;36m5\u001b[0m\u001b[0;34m)\u001b[0m\u001b[0;34m\u001b[0m\u001b[0m\n\u001b[0;32m---> 39\u001b[0;31m     \u001b[0mhead\u001b[0m \u001b[0;34m=\u001b[0m  \u001b[0moddEvenList\u001b[0m\u001b[0;34m(\u001b[0m\u001b[0mhead\u001b[0m\u001b[0;34m)\u001b[0m\u001b[0;34m\u001b[0m\u001b[0m\n\u001b[0m\u001b[1;32m     40\u001b[0m     \u001b[0mprint\u001b[0m \u001b[0;34m(\u001b[0m\u001b[0;34m\"Expected result: 1, 3, 5, 2, 4\"\u001b[0m\u001b[0;34m)\u001b[0m\u001b[0;34m\u001b[0m\u001b[0m\n\u001b[1;32m     41\u001b[0m     \u001b[0mprint\u001b[0m \u001b[0;34m(\u001b[0m\u001b[0;34m\"Your result is {}, {}, {}, {}, {}\"\u001b[0m\u001b[0;34m.\u001b[0m\u001b[0mformat\u001b[0m\u001b[0;34m(\u001b[0m\u001b[0mhead\u001b[0m\u001b[0;34m.\u001b[0m\u001b[0mdata\u001b[0m\u001b[0;34m,\u001b[0m \u001b[0mhead\u001b[0m\u001b[0;34m.\u001b[0m\u001b[0mnext\u001b[0m\u001b[0;34m.\u001b[0m\u001b[0mdata\u001b[0m\u001b[0;34m,\u001b[0m \u001b[0mhead\u001b[0m\u001b[0;34m.\u001b[0m\u001b[0mnext\u001b[0m\u001b[0;34m.\u001b[0m\u001b[0mnext\u001b[0m\u001b[0;34m.\u001b[0m\u001b[0mdata\u001b[0m\u001b[0;34m,\u001b[0m \u001b[0mhead\u001b[0m\u001b[0;34m.\u001b[0m\u001b[0mnext\u001b[0m\u001b[0;34m.\u001b[0m\u001b[0mnext\u001b[0m\u001b[0;34m.\u001b[0m\u001b[0mnext\u001b[0m\u001b[0;34m.\u001b[0m\u001b[0mdata\u001b[0m\u001b[0;34m,\u001b[0m \u001b[0mhead\u001b[0m\u001b[0;34m.\u001b[0m\u001b[0mnext\u001b[0m\u001b[0;34m.\u001b[0m\u001b[0mnext\u001b[0m\u001b[0;34m.\u001b[0m\u001b[0mnext\u001b[0m\u001b[0;34m.\u001b[0m\u001b[0mnext\u001b[0m\u001b[0;34m.\u001b[0m\u001b[0mdata\u001b[0m\u001b[0;34m)\u001b[0m\u001b[0;34m)\u001b[0m\u001b[0;34m\u001b[0m\u001b[0m\n",
      "\u001b[0;32m<ipython-input-10-05fd7efaca62>\u001b[0m in \u001b[0;36moddEvenList\u001b[0;34m(head)\u001b[0m\n\u001b[1;32m     27\u001b[0m \u001b[0;31m#DO NOT CHANGE THIS FUNCTION\u001b[0m\u001b[0;34m\u001b[0m\u001b[0;34m\u001b[0m\u001b[0m\n\u001b[1;32m     28\u001b[0m \u001b[0;32mdef\u001b[0m \u001b[0moddEvenList\u001b[0m\u001b[0;34m(\u001b[0m\u001b[0mhead\u001b[0m\u001b[0;34m)\u001b[0m\u001b[0;34m:\u001b[0m\u001b[0;34m\u001b[0m\u001b[0m\n\u001b[0;32m---> 29\u001b[0;31m     \u001b[0;32mreturn\u001b[0m \u001b[0moddEvenList_Helper\u001b[0m\u001b[0;34m(\u001b[0m\u001b[0mhead\u001b[0m\u001b[0;34m)\u001b[0m\u001b[0;34m\u001b[0m\u001b[0m\n\u001b[0m\u001b[1;32m     30\u001b[0m \u001b[0;34m\u001b[0m\u001b[0m\n\u001b[1;32m     31\u001b[0m \u001b[0;34m\u001b[0m\u001b[0m\n",
      "\u001b[0;32m<ipython-input-10-05fd7efaca62>\u001b[0m in \u001b[0;36moddEvenList_Helper\u001b[0;34m(head)\u001b[0m\n\u001b[1;32m      6\u001b[0m \u001b[0;34m\u001b[0m\u001b[0m\n\u001b[1;32m      7\u001b[0m \u001b[0;32mdef\u001b[0m \u001b[0moddEvenList_Helper\u001b[0m\u001b[0;34m(\u001b[0m\u001b[0mhead\u001b[0m\u001b[0;34m)\u001b[0m\u001b[0;34m:\u001b[0m\u001b[0;34m\u001b[0m\u001b[0m\n\u001b[0;32m----> 8\u001b[0;31m     \u001b[0mevenlist\u001b[0m    \u001b[0;34m=\u001b[0m \u001b[0mListNode\u001b[0m\u001b[0;34m(\u001b[0m\u001b[0;34m)\u001b[0m \u001b[0;31m# defining head for even list\u001b[0m\u001b[0;34m\u001b[0m\u001b[0m\n\u001b[0m\u001b[1;32m      9\u001b[0m     \u001b[0moddlist\u001b[0m     \u001b[0;34m=\u001b[0m \u001b[0mListNode\u001b[0m\u001b[0;34m(\u001b[0m\u001b[0;34m)\u001b[0m \u001b[0;31m# defining head for odd list\u001b[0m\u001b[0;34m\u001b[0m\u001b[0m\n\u001b[1;32m     10\u001b[0m     \u001b[0meventracker\u001b[0m \u001b[0;34m=\u001b[0m \u001b[0mevenlist\u001b[0m   \u001b[0;31m#\u001b[0m\u001b[0;34m\u001b[0m\u001b[0m\n",
      "\u001b[0;31mTypeError\u001b[0m: __init__() missing 1 required positional argument: 'data'"
     ]
    }
   ],
   "source": [
    "#constructor for a Node of singly linked list\n",
    "class ListNode:\n",
    "    def __init__(self, data):\n",
    "        self.data = data\n",
    "        self.next = None\n",
    "\n",
    "def oddEvenList_Helper(head):\n",
    "    # make sure that the base case works (2 or more)\n",
    "    ol, el = unzip(head)\n",
    "    newhead = zipboth(ol,el)\n",
    "    return newhead\n",
    "\n",
    "def unzip(head):\n",
    "    evenlist    = ListNode() # defining head for even list\n",
    "    oddlist     = ListNode() # defining head for odd list\n",
    "    eventracker = evenlist   # \n",
    "    oddtracker  = oddlist    # \n",
    "    listtracker = head\n",
    "    count       = 0 \n",
    "    while listtracker:\n",
    "        if (count%2 ==0):\n",
    "            eventracker = listtracker\n",
    "            listtracker = listtracker.next\n",
    "            eventracker = eventracker.next\n",
    "            count +=1\n",
    "            \n",
    "        else:\n",
    "            oddtracker = listtracker\n",
    "            listtracker = listtracker.next\n",
    "            oddtracker = oddtracker.next\n",
    "            count +=1\n",
    "    return evenlist, oddlist\n",
    "\n",
    "def zipboth(oddlist, evenlist):\n",
    "    eventracker = evenlist   # \n",
    "    oddtracker  = oddlist    # \n",
    "    \n",
    "    # get all even behind odd\n",
    "    # go to the of odd\n",
    "    while oddtracker.next:\n",
    "        oddtracker = oddtracker.next\n",
    "    \n",
    "    # now oddtracker points to null; make it point to 1st element of even list\n",
    "    while eventracker:\n",
    "    oddtracker.next = eventracker\n",
    "    eventracker     = eventracker.next\n",
    "    return oddlist\n",
    "    \n",
    "\n",
    "#DO NOT CHANGE THIS FUNCTION\n",
    "def oddEvenList(head):\n",
    "    return oddEvenList_Helper(head)\n",
    "\n",
    "\n",
    "#test case\n",
    "def main():\n",
    "    head = ListNode(1)\n",
    "    head.next = ListNode(2)\n",
    "    head.next.next = ListNode(3)\n",
    "    head.next.next.next = ListNode(4)\n",
    "    head.next.next.next.next = ListNode(5)\n",
    "    head =  oddEvenList(head)\n",
    "    print (\"Expected result: 1, 3, 5, 2, 4\")\n",
    "    print (\"Your result is {}, {}, {}, {}, {}\".format(head.data, head.next.data, head.next.next.data, head.next.next.next.data, head.next.next.next.next.data))\n",
    "\n",
    "if __name__ == \"__main__\":\n",
    "    main()"
   ]
  },
  {
   "cell_type": "code",
   "execution_count": null,
   "metadata": {
    "collapsed": true
   },
   "outputs": [],
   "source": []
  },
  {
   "cell_type": "code",
   "execution_count": null,
   "metadata": {
    "collapsed": true
   },
   "outputs": [],
   "source": []
  },
  {
   "cell_type": "markdown",
   "metadata": {},
   "source": [
    "### problem 3\n",
    "Given a string check if it can be constructed by taking a substring of it and appending multiple copies of the substring together. You may assume the given string consists of lowercase English letters only and its length will not exceed 10000.\n",
    "\n",
    "Example 1:\n",
    "Input: \"abab\"\n",
    "Output: True\n",
    "Explanation: It's the substring \"ab\" twice.\n",
    "\n",
    "Example 2:\n",
    "Input: \"aba\"\n",
    "Output: False\n",
    "\n",
    "Example 3:\n",
    "Input: \"abcabcabcabc\"\n",
    "Output: True\n",
    "Explanation: It's the substring \"abc\" four times. (And the substring \"abcabc\" twice.)"
   ]
  },
  {
   "cell_type": "code",
   "execution_count": 14,
   "metadata": {},
   "outputs": [
    {
     "name": "stdout",
     "output_type": "stream",
     "text": [
      "Testing your code with TEST_CASE1, the expected output is True, your output is True\n",
      "Testing your code with TEST_CASE2, the expected output is False, your output is False\n",
      "Testing your code with TEST_CASE3, the expected output is True, your output is True\n"
     ]
    }
   ],
   "source": [
    "def is_substring_helper(data):\n",
    "    desired_data        = []\n",
    "    subdata_seen_so_far = []\n",
    "    \n",
    "    for i in range(len(data)):\n",
    "            if data[i] not in subdata_seen_so_far:\n",
    "                subdata_seen_so_far.append(data[i])\n",
    "            else:\n",
    "                k = len(data)/len(subdata_seen_so_far)\n",
    "                # desired_data\n",
    "                if k%1 == 0:\n",
    "                    for j in range(int(k)):\n",
    "                        desired_data.extend(subdata_seen_so_far)\n",
    "                        \n",
    "                    desired_data = ''.join(desired_data) # get desired data to string\n",
    "                        \n",
    "                    if data == desired_data: \n",
    "                        return True\n",
    "                    else:\n",
    "                        return False\n",
    "                \n",
    "                else:\n",
    "                    return False\n",
    "                \n",
    "                \n",
    "                \n",
    "#DON NOT CHANGE THIS FUNCTION\n",
    "def is_substring (string_input):\n",
    "\treturn is_substring_helper(string_input)\n",
    "\n",
    "\n",
    "#test case\n",
    "def main():\n",
    "    TEST_CASE1 = \"abab\"\n",
    "    TEST_CASE2 = \"aba\"\n",
    "    TEST_CASE3 = \"abcabcabcabc\"\n",
    "\n",
    "    print (\"Testing your code with TEST_CASE1, the expected output is True, your output is {}\".format(is_substring(TEST_CASE1)))\n",
    "    print (\"Testing your code with TEST_CASE2, the expected output is False, your output is {}\".format(is_substring(TEST_CASE2)))\n",
    "    print (\"Testing your code with TEST_CASE3, the expected output is True, your output is {}\".format(is_substring(TEST_CASE3)))\n",
    "\n",
    "if __name__ == \"__main__\":\n",
    "    main()\n",
    "\n"
   ]
  },
  {
   "cell_type": "code",
   "execution_count": null,
   "metadata": {
    "collapsed": true
   },
   "outputs": [],
   "source": []
  }
 ],
 "metadata": {
  "kernelspec": {
   "display_name": "Python 3",
   "language": "python",
   "name": "python3"
  },
  "language_info": {
   "codemirror_mode": {
    "name": "ipython",
    "version": 3
   },
   "file_extension": ".py",
   "mimetype": "text/x-python",
   "name": "python",
   "nbconvert_exporter": "python",
   "pygments_lexer": "ipython3",
   "version": "3.6.3"
  }
 },
 "nbformat": 4,
 "nbformat_minor": 2
}
